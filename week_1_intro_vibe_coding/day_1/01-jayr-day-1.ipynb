{
 "cells": [
  {
   "cell_type": "markdown",
   "id": "c7c6632a",
   "metadata": {},
   "source": [
    "### AI/LLM Engineering Kick-off!! \n",
    "\n",
    "For our initial activity, we will be using the OpenAI Library to Programmatically Access GPT-4.1-nano!"
   ]
  },
  {
   "cell_type": "markdown",
   "id": "54aba7c9",
   "metadata": {},
   "source": [
    "In order to get started, you'll need an OpenAI API Key. [here](https://platform.openai.com)!"
   ]
  },
  {
   "cell_type": "code",
   "execution_count": 2,
   "id": "effea953",
   "metadata": {},
   "outputs": [],
   "source": [
    "import os\n",
    "import openai\n",
    "import getpass\n",
    "\n",
    "os.environ[\"OPENAI_API_KEY\"] = getpass.getpass(\"Please enter your OpenAI API Key: \")\n",
    "openai.api_key = os.environ[\"OPENAI_API_KEY\"]"
   ]
  },
  {
   "cell_type": "markdown",
   "id": "b5576ad2",
   "metadata": {},
   "source": [
    "### Prompt Engineering\n",
    "\n",
    "Now that we have a basic handle on the `developer` role and the `user` role - let's examine what we might use the `assistant` role for.\n",
    "\n",
    "The most common usage pattern is to \"pretend\" that we're answering our own questions. This helps us further guide the model toward our desired behaviour. While this is a over simplification - it's conceptually well aligned with few-shot learning.\n",
    "\n",
    "First, we'll try and \"teach\" `gpt-4.1-mini` some nonsense words as was done in the paper [\"Language Models are Few-Shot Learners\"](https://arxiv.org/abs/2005.14165)."
   ]
  },
  {
   "cell_type": "code",
   "execution_count": 3,
   "id": "ff1234e6",
   "metadata": {},
   "outputs": [],
   "source": [
    "from openai import OpenAI\n",
    "\n",
    "client = OpenAI()"
   ]
  },
  {
   "cell_type": "code",
   "execution_count": 4,
   "id": "3b9fc9c4",
   "metadata": {},
   "outputs": [],
   "source": [
    "from IPython.display import display, Markdown\n",
    "\n",
    "def get_response(client: OpenAI, messages: str, model: str = \"gpt-4.1-nano\") -> str:\n",
    "    return client.chat.completions.create(\n",
    "        model=model,\n",
    "        messages=messages\n",
    "    )\n",
    "\n",
    "def system_prompt(message: str) -> dict:\n",
    "    return {\"role\": \"developer\", \"content\": message}\n",
    "\n",
    "def assistant_prompt(message: str) -> dict:\n",
    "    return {\"role\": \"assistant\", \"content\": message}\n",
    "\n",
    "def user_prompt(message: str) -> dict:\n",
    "    return {\"role\": \"user\", \"content\": message}\n",
    "\n",
    "def pretty_print(message: str) -> str:\n",
    "    display(Markdown(message.choices[0].message.content))"
   ]
  },
  {
   "cell_type": "code",
   "execution_count": 5,
   "id": "923fddab",
   "metadata": {},
   "outputs": [
    {
     "data": {
      "text/markdown": [
       "Climate change refers to significant and lasting changes in global weather patterns and temperatures, primarily driven by human activities such as the burning of fossil fuels, deforestation, and industrial processes. These activities increase the concentration of greenhouse gases like carbon dioxide in the atmosphere, leading to global warming. The effects of climate change include more frequent and severe weather events, rising sea levels, melting glaciers, and disruptions to ecosystems and agriculture. Addressing climate change requires global cooperation to reduce emissions, shift to renewable energy sources, and implement sustainable practices to protect the planet for future generations."
      ],
      "text/plain": [
       "<IPython.core.display.Markdown object>"
      ]
     },
     "metadata": {},
     "output_type": "display_data"
    }
   ],
   "source": [
    "list_of_prompts = [\n",
    "    user_prompt(\"Write a brief text on climate change.\")\n",
    "]\n",
    "\n",
    "stimple_response = get_response(client, list_of_prompts)\n",
    "pretty_print(stimple_response)"
   ]
  },
  {
   "cell_type": "code",
   "execution_count": 6,
   "id": "09f80c6b",
   "metadata": {},
   "outputs": [
    {
     "data": {
      "text/markdown": [
       "Ay naku, mga bakla at kababayan! Nako, pag-usapan natin ang isang seryosong usapin pero syempre, with a little humor pa rin! Climate change, ha? Parang love life yan, minsan printable, minsan nakakaloka! Ang mundo natin, parang si Tado, umiinit nang umiinit, tapos nagkakaroon ng mga bagyo, baha, at heatwave na para bang concert ni Moira… sobrang intense! Dapat tayong lahat ay maging responsible, magtipid, at mag-plant ng puno, kasi kung hindi, baka maulanan tayo ng problema na parang walang katapus-tapusan! Kaya’t mga kababayan, magkaisa tayo, huwag pabayaan ang ating Inang Kalikasan, para sa isang mas malamig, mas ligtas, at mas masayang mundo! Charing! Basta, tumutok lang kayo, ha! Walang i-iiwan, kundi ang mga good vibes at malinis na planeta!"
      ],
      "text/plain": [
       "<IPython.core.display.Markdown object>"
      ]
     },
     "metadata": {},
     "output_type": "display_data"
    }
   ],
   "source": [
    "list_of_prompts = [\n",
    "    user_prompt(\"Write a brief text on climate change as vice ganda in a talk show.\")\n",
    "]\n",
    "\n",
    "stimple_response = get_response(client, list_of_prompts)\n",
    "pretty_print(stimple_response)"
   ]
  },
  {
   "cell_type": "markdown",
   "id": "eba717cc",
   "metadata": {},
   "source": [
    "### ❓ Activity #1: Play around with the prompt using any techniques from the prompt engineering guide."
   ]
  },
  {
   "cell_type": "markdown",
   "id": "67899f41",
   "metadata": {},
   "source": [
    "#### Solution to Activity #1: Prompt Engineering Techniques\n",
    "\n",
    "I'll demonstrate three powerful prompt engineering techniques to improve the climate change prompt:\n",
    "1. **Zero-Shot Prompting with Structure**\n",
    "2. **Few-Shot Prompting**\n",
    "3. **Chain of Thought (CoT) Prompting**"
   ]
  },
  {
   "cell_type": "markdown",
   "id": "eb78f0b2",
   "metadata": {},
   "source": [
    "#### Technique 1: Zero-Shot Prompting with Structure\n",
    "\n",
    "Zero-shot prompting provides clear structure and expectations without examples. This helps the model understand the exact format and content you want."
   ]
  },
  {
   "cell_type": "code",
   "execution_count": 7,
   "id": "fd1cf293",
   "metadata": {},
   "outputs": [
    {
     "name": "stdout",
     "output_type": "stream",
     "text": [
      "=== ZERO-SHOT PROMPTING WITH STRUCTURE ===\n",
      "\n"
     ]
    },
    {
     "data": {
      "text/markdown": [
       "**Climate change** refers to long-term shifts in temperature, precipitation, and other atmospheric conditions on Earth. These changes are primarily driven by human activities and have significant environmental, social, and economic implications.\n",
       "\n",
       "**Key causes:**\n",
       "- Burning fossil fuels (coal, oil, natural gas) for energy\n",
       "- Deforestation and land use changes\n",
       "- Industrial processes and agriculture that emit greenhouse gases\n",
       "- Increased emissions of methane and nitrous oxide\n",
       "\n",
       "**Main impacts:**\n",
       "- Rising global temperatures leading to more frequent and severe heatwaves\n",
       "- Melting glaciers and ice caps, causing sea level rise\n",
       "- More intense and unpredictable weather events, such as hurricanes and droughts\n",
       "\n",
       "**Call to action:** Immediate and sustained efforts are essential to reduce emissions and mitigate the worst effects of climate change."
      ],
      "text/plain": [
       "<IPython.core.display.Markdown object>"
      ]
     },
     "metadata": {},
     "output_type": "display_data"
    }
   ],
   "source": [
    "zero_shot_list_of_prompts = [\n",
    "    system_prompt(\"You are a climate scientist. Provide structured, evidence-based responses.\"),\n",
    "    user_prompt(\"\"\"Write a brief text on climate change with the following structure:\n",
    "    1. Definition (2 sentences)\n",
    "    2. Key causes (bullet points)\n",
    "    3. Main impacts (3 examples)\n",
    "    4. Call to action (1 sentence)\"\"\")\n",
    "]\n",
    "\n",
    "zero_shot_response = get_response(client, zero_shot_list_of_prompts)\n",
    "print(\"=== ZERO-SHOT PROMPTING WITH STRUCTURE ===\\n\")\n",
    "pretty_print(zero_shot_response)"
   ]
  },
  {
   "cell_type": "markdown",
   "id": "44d326cc",
   "metadata": {},
   "source": [
    "#### Technique 2: Few-Shot Prompting\n",
    "\n",
    "Few-shot prompting provides examples to guide the model's response style and format. This is especially effective for teaching specific writing styles or patterns."
   ]
  },
  {
   "cell_type": "code",
   "execution_count": 8,
   "id": "c53c7d34",
   "metadata": {},
   "outputs": [
    {
     "name": "stdout",
     "output_type": "stream",
     "text": [
      "=== FEW-SHOT PROMPTING ===\n",
      "\n"
     ]
    },
    {
     "data": {
      "text/markdown": [
       "Climate change is when the Earth's weather gets different over time. It can make some areas hotter, cause storms to become stronger, or change rain patterns. This happens mainly because of pollution from things like cars and factories."
      ],
      "text/plain": [
       "<IPython.core.display.Markdown object>"
      ]
     },
     "metadata": {},
     "output_type": "display_data"
    }
   ],
   "source": [
    "few_shot_list_of_prompts = [\n",
    "    user_prompt(\"Explain deforestation in simple terms.\"),\n",
    "    assistant_prompt(\"Deforestation means cutting down large areas of forests. This harms wildlife, increases carbon dioxide, and disrupts water cycles.\"),\n",
    "    user_prompt(\"Now explain climate change in the same style.\")\n",
    "]\n",
    "\n",
    "few_shot_response = get_response(client, few_shot_list_of_prompts)\n",
    "print(\"=== FEW-SHOT PROMPTING ===\\n\")\n",
    "pretty_print(few_shot_response)"
   ]
  },
  {
   "cell_type": "markdown",
   "id": "1b88d48d",
   "metadata": {},
   "source": [
    "#### Technique 3: Chain of Thought (CoT) Prompting\n",
    "\n",
    "Chain of Thought prompting asks the model to think step-by-step and show its reasoning process. This improves accuracy and provides transparent logic."
   ]
  },
  {
   "cell_type": "code",
   "execution_count": 9,
   "id": "a0488317",
   "metadata": {},
   "outputs": [
    {
     "name": "stdout",
     "output_type": "stream",
     "text": [
      "=== CHAIN OF THOUGHT PROMPTING ===\n",
      "\n"
     ]
    },
    {
     "data": {
      "text/markdown": [
       "Let's break down the reasoning process step-by-step before presenting the final explanation:\n",
       "\n",
       "**Step 1: Define the core problem**\n",
       "\n",
       "- What is changing?  \n",
       "  The Earth's climate is experiencing significant changes, including rising average temperatures, shifts in weather patterns, increased frequency and severity of extreme weather events (like hurricanes, droughts, and floods), and melting glaciers and polar ice caps.  \n",
       "- What timescale?  \n",
       "  These changes are occurring over decades to centuries. Currently, the trend of rising temperatures and altered climate patterns is evident over the past 100 years, but the primary causes and effects are linked to longer-term (century-scale) changes in atmospheric composition.\n",
       "\n",
       "**Step 2: List 3 scientific causes**\n",
       "\n",
       "1. **Increased Carbon Dioxide (CO₂) from Burning Fossil Fuels:**  \n",
       "   - Mechanism: CO₂ is a greenhouse gas that traps heat in the Earth's atmosphere by absorbing infrared radiation emitted from the Earth's surface, preventing it from escaping into space.\n",
       "\n",
       "2. **Deforestation:**  \n",
       "   - Mechanism: Trees absorb CO₂ during photosynthesis; removing forests decreases this carbon sink, leading to higher atmospheric CO₂. Additionally, soil disturbance releases stored carbon.\n",
       "\n",
       "3. **Methane Emissions from Agriculture and Landfills:**  \n",
       "   - Mechanism: Methane is a potent greenhouse gas that traps heat five to twenty-five times more effectively than CO₂ over a 100-year period; it is released during livestock digestion (enteric fermentation), rice paddies, and waste decay in landfills.\n",
       "\n",
       "**Step 3: Connect causes to observable effects**\n",
       "\n",
       "- **Cause: Increased CO₂ from Fossil Fuels**  \n",
       "  Because CO₂ traps heat, increased emissions lead to higher global temperatures, resulting in glaciers melting and sea level rising.  \n",
       "  *Example:* Satellite data shows the shrinking of Arctic sea ice extent over the last several decades.\n",
       "\n",
       "- **Cause: Deforestation**  \n",
       "  Because fewer trees absorb CO₂, atmospheric concentrations increase, which enhances greenhouse effect, leading to more frequent and intense heatwaves.  \n",
       "  *Example:* The Amazon rainforest experiencing unprecedented droughts and fires, exacerbated by reduced forest cover.\n",
       "\n",
       "- **Cause: Methane Emissions**  \n",
       "  Because methane is a potent greenhouse gas, increased emissions contribute to rapid warming, which can trigger permafrost thawing, releasing even more methane and amplifying warming.  \n",
       "  *Example:* Observations of rising methane levels in Arctic permafrost regions.\n",
       "\n",
       "**Step 4: Suggest actionable solutions**\n",
       "\n",
       "- **High impact, implemented by:** Governments and large organizations  \n",
       "  - *Reduce fossil fuel use:* Transition to renewable energy sources (solar, wind).  \n",
       "  - *Enforce deforestation policies:* Protect and restore forests, reforestation initiatives.  \n",
       "  - *Regulate methane emissions:* Improve waste management, promote sustainable agriculture, and reduce livestock emissions.\n",
       "\n",
       "- **Medium impact, implemented by:** Individuals and communities  \n",
       "  - *Adopt energy-efficient lifestyles:* Use public transportation, reduce energy consumption.  \n",
       "  - *Support conservation efforts:* Volunteer or donate to reforestation projects.  \n",
       "  - *Reduce meat consumption:* Lower methane emissions from livestock.\n",
       "\n",
       "- **Low impact, but still helpful:**  \n",
       "  - Educate and advocate for policy change; small lifestyle changes to reduce carbon footprints.\n",
       "\n",
       "---\n",
       "\n",
       "**Final explanation:**\n",
       "\n",
       "Climate change is the process by which the Earth's climate system is altering over decades to centuries, primarily evidenced by rising global temperatures and shifting weather patterns. This crisis is driven by several scientific causes:\n",
       "\n",
       "1. **Increased Carbon Dioxide (CO₂) from burning fossil fuels** traps heat through infrared absorption, leading to global warming.  \n",
       "2. **Deforestation** reduces the planet’s capacity to absorb CO₂, raising atmospheric concentrations and intensifying warming.  \n",
       "3. **Methane emissions** from agriculture and landfills are potent greenhouse gases that accelerate temperature rise.\n",
       "\n",
       "These causes lead to observable effects such as melting glaciers, rising sea levels, and more extreme weather events. For instance, higher CO₂ levels contribute to the shrinking of Arctic sea ice, deforestation correlates with more frequent heatwaves, and rising methane levels are linked to permafrost thawing.\n",
       "\n",
       "Addressing climate change requires impactful solutions. High-impact actions include governments transitioning to renewable energy and protecting forests, as well as regulating methane emissions. Individuals can contribute by reducing energy and meat consumption and supporting conservation efforts. Combating climate change demands coordinated efforts across all levels to protect our environment for future generations."
      ],
      "text/plain": [
       "<IPython.core.display.Markdown object>"
      ]
     },
     "metadata": {},
     "output_type": "display_data"
    }
   ],
   "source": [
    "cot_list_of_prompts = [\n",
    "    system_prompt(\"You are a science educator. Think step-by-step and show your reasoning process.\"),\n",
    "    user_prompt(\"\"\"Write about climate change by following this reasoning chain:\n",
    "\n",
    "    **Step 1: Define the core problem**\n",
    "    - What is changing? (temperature, weather patterns, etc.)\n",
    "    - What timescale? (decades vs. centuries)\n",
    "    \n",
    "    **Step 2: List 3 scientific causes**\n",
    "    - For each cause, cite the mechanism (e.g., \"CO2 traps heat by...\")\n",
    "    \n",
    "    **Step 3: Connect causes to observable effects**\n",
    "    - Use \"Because X, we observe Y\" format\n",
    "    - Include 1 concrete example per cause\n",
    "    \n",
    "    **Step 4: Suggest actionable solutions**\n",
    "    - Prioritize by impact (high/medium/low)\n",
    "    - Note who implements (individuals vs. governments)\n",
    "    \n",
    "    Show your reasoning for each step before the final answer.\"\"\")\n",
    "]\n",
    "\n",
    "cot_response = get_response(client, cot_list_of_prompts)\n",
    "print(\"=== CHAIN OF THOUGHT PROMPTING ===\\n\")\n",
    "pretty_print(cot_response)"
   ]
  },
  {
   "cell_type": "markdown",
   "id": "16ae7c9d",
   "metadata": {},
   "source": [
    "### Few-shot Prompting"
   ]
  },
  {
   "cell_type": "markdown",
   "id": "16fed370",
   "metadata": {},
   "source": [
    "As you can see, the model is unsure what to do with these made up words.\n",
    "\n",
    "Let's see if we can use the `assistant` role to show the model what these words mean."
   ]
  },
  {
   "cell_type": "code",
   "execution_count": 10,
   "id": "ee898ba6",
   "metadata": {},
   "outputs": [
    {
     "data": {
      "text/markdown": [
       "The stimple wrench effortlessly turned the falbean, securing the parts with ease."
      ],
      "text/plain": [
       "<IPython.core.display.Markdown object>"
      ]
     },
     "metadata": {},
     "output_type": "display_data"
    }
   ],
   "source": [
    "list_of_prompts = [\n",
    "    user_prompt(\"Something that is 'stimple' is said to be good, well functioning, and high quality. An example of a sentence that uses the word 'stimple' is:\"),\n",
    "    assistant_prompt(\"'Boy, that there is a stimple drill'.\"),\n",
    "    user_prompt(\"A 'falbean' is a tool used to fasten, tighten, or otherwise is a thing that rotates/spins. An example of a sentence that uses the words 'stimple' and 'falbean' is:\")\n",
    "]\n",
    "\n",
    "stimple_response = get_response(client, list_of_prompts)\n",
    "pretty_print(stimple_response)"
   ]
  },
  {
   "cell_type": "markdown",
   "id": "e5c836af",
   "metadata": {},
   "source": [
    "As you can see, leveraging the `assistant` role makes for a stimple experience!"
   ]
  },
  {
   "cell_type": "markdown",
   "id": "9ab0ebfe",
   "metadata": {},
   "source": [
    "### Chain of Thought\n",
    "\n",
    "You'll notice that, by default, the model uses Chain of Thought to answer difficult questions!\n",
    "\n",
    "> This pattern is leveraged even more by advanced reasoning models like [`o3` and `o4-mini`](https://openai.com/index/introducing-o3-and-o4-mini/)!"
   ]
  },
  {
   "cell_type": "code",
   "execution_count": 11,
   "id": "1162f0b0",
   "metadata": {},
   "outputs": [
    {
     "data": {
      "text/markdown": [
       "There are 2 r's in \"strawberry\"."
      ],
      "text/plain": [
       "<IPython.core.display.Markdown object>"
      ]
     },
     "metadata": {},
     "output_type": "display_data"
    }
   ],
   "source": [
    "\n",
    "reasoning_problem = \"\"\"\n",
    "how many r's in \"strawberry?\" {instruction}\n",
    "\"\"\"\n",
    "\n",
    "list_of_prompts = [\n",
    "    user_prompt(reasoning_problem)\n",
    "]\n",
    "\n",
    "reasoning_response = get_response(client, list_of_prompts)\n",
    "pretty_print(reasoning_response)"
   ]
  },
  {
   "cell_type": "markdown",
   "id": "68feea52",
   "metadata": {},
   "source": [
    "Notice that the model cannot count properly. It counted only 2 r's."
   ]
  },
  {
   "cell_type": "markdown",
   "id": "f1edf7cb",
   "metadata": {},
   "source": [
    "### ❓ Activity #2: Update the prompt so that it can count correctly."
   ]
  },
  {
   "cell_type": "markdown",
   "id": "bf7abcb5",
   "metadata": {},
   "source": [
    "#### Solution to Activity #2: Fix the Counting Problem\n",
    "\n",
    "The model failed because it didn't break down the problem step-by-step. Let's use Chain of Thought prompting to guide it through a systematic counting process."
   ]
  },
  {
   "cell_type": "code",
   "execution_count": 12,
   "id": "c032d3d7",
   "metadata": {},
   "outputs": [
    {
     "name": "stdout",
     "output_type": "stream",
     "text": [
      "=== CORRECTED COUNTING WITH CHAIN OF THOUGHT ===\n",
      "\n"
     ]
    },
    {
     "data": {
      "text/markdown": [
       "Let's analyze the word \"strawberry?\" step-by-step.\n",
       "\n",
       "Step 1: Write out each letter with its position:\n",
       "\n",
       "1. s\n",
       "2. t\n",
       "3. r\n",
       "4. a\n",
       "5. w\n",
       "6. b\n",
       "7. e\n",
       "8. r\n",
       "9. r\n",
       "10. y\n",
       "11. ?\n",
       "\n",
       "Step 2: Mark each 'r' with an asterisk (*)\n",
       "\n",
       "- Position 3: r*\n",
       "- Position 8: r*\n",
       "- Position 9: r*\n",
       "\n",
       "Step 3: Count the total marked letters:\n",
       "\n",
       "- Total 'r*'s: 3\n",
       "\n",
       "**Final answer: 3**"
      ],
      "text/plain": [
       "<IPython.core.display.Markdown object>"
      ]
     },
     "metadata": {},
     "output_type": "display_data"
    }
   ],
   "source": [
    "reasoning_problem = \"\"\"\n",
    "how many r's in \"strawberry?\"\n",
    "\"\"\"\n",
    "\n",
    "list_of_prompts = [\n",
    "    system_prompt(\"\"\"You are a meticulous spelling checker. Show your work step-by-step.\n",
    "    \n",
    "    Follow these steps:\n",
    "    1. Write out each letter with its position\n",
    "    2. Mark each 'r' with an asterisk (*)\n",
    "    3. Sum the total marked letters\"\"\"),\n",
    "    user_prompt(reasoning_problem)\n",
    "]\n",
    "\n",
    "reasoning_response = get_response(client, list_of_prompts)\n",
    "print(\"=== CORRECTED COUNTING WITH CHAIN OF THOUGHT ===\\n\")\n",
    "pretty_print(reasoning_response)"
   ]
  },
  {
   "cell_type": "markdown",
   "id": "80287a35",
   "metadata": {},
   "source": [
    "#### Comparison: Before and After Optimization\n",
    "\n",
    "**Before (Original Prompt):**\n",
    "- Simple question: \"how many r's in strawberry?\"\n",
    "- Result: Incorrect answer (2 r's)\n",
    "- Problem: No guidance on how to count systematically\n",
    "\n",
    "**After (Chain of Thought):**\n",
    "- Step-by-step instructions\n",
    "- System prompt defining role as \"meticulous spelling checker\"\n",
    "- Result: Correct answer (3 r's)\n",
    "- Benefit: Transparent reasoning process that can be verified\n",
    "\n",
    "This demonstrates how **Chain of Thought prompting** dramatically improves accuracy on tasks requiring systematic reasoning."
   ]
  }
 ],
 "metadata": {
  "kernelspec": {
   "display_name": "day_1",
   "language": "python",
   "name": "python3"
  },
  "language_info": {
   "codemirror_mode": {
    "name": "ipython",
    "version": 3
   },
   "file_extension": ".py",
   "mimetype": "text/x-python",
   "name": "python",
   "nbconvert_exporter": "python",
   "pygments_lexer": "ipython3",
   "version": "3.12.4"
  }
 },
 "nbformat": 4,
 "nbformat_minor": 5
}
